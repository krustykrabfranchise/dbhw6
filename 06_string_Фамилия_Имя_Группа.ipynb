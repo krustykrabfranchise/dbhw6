{
 "cells": [
  {
   "cell_type": "markdown",
   "metadata": {},
   "source": [
    "# Работа со строковыми значениями"
   ]
  },
  {
   "cell_type": "markdown",
   "metadata": {},
   "source": [
    "__Автор задач: Блохин Н.В. (NVBlokhin@fa.ru)__\n",
    "\n",
    "Материалы:\n",
    "* Макрушин С.В. Лекция \"Работа со строковыми значениям\"\n",
    "* https://pyformat.info/\n",
    "* https://docs.python.org/3/library/re.html\n",
    "    * https://docs.python.org/3/library/re.html#flags\n",
    "    * https://docs.python.org/3/library/re.html#functions\n",
    "* https://pythonru.com/primery/primery-primeneniya-regulyarnyh-vyrazheniy-v-python\n",
    "* https://kanoki.org/2019/11/12/how-to-use-regex-in-pandas/\n",
    "* https://realpython.com/nltk-nlp-python/"
   ]
  },
  {
   "cell_type": "markdown",
   "metadata": {},
   "source": [
    "## Лабораторная работа 6"
   ]
  },
  {
   "cell_type": "code",
   "execution_count": 139,
   "outputs": [
    {
     "data": {
      "text/plain": "True"
     },
     "execution_count": 139,
     "metadata": {},
     "output_type": "execute_result"
    }
   ],
   "source": [
    "import pandas as pd\n",
    "from bs4 import BeautifulSoup\n",
    "import re\n",
    "import nltk\n",
    "nltk.download('punkt')\n",
    "nltk.download('averaged_perceptron_tagger')"
   ],
   "metadata": {
    "collapsed": false
   }
  },
  {
   "cell_type": "markdown",
   "metadata": {},
   "source": [
    "### Форматирование строк"
   ]
  },
  {
   "cell_type": "markdown",
   "metadata": {},
   "source": [
    "1\\. Загрузите данные из файла `recipes_sample.csv` (__ЛР2__) в виде `pd.DataFrame` `recipes` При помощи форматирования строк выведите информацию об id рецепта и времени выполнения 5 случайных рецептов в виде таблицы следующего вида:\n",
    "\n",
    "    \n",
    "    |      id      |  minutes  |\n",
    "    |--------------------------|\n",
    "    |    61178     |    65     |\n",
    "    |    202352    |    80     |\n",
    "    |    364322    |    150    |\n",
    "    |    26177     |    20     |\n",
    "    |    224785    |    35     |\n",
    "    \n",
    "Обратите внимание, что ширина столбцов заранее неизвестна и должна рассчитываться динамически, в зависимости от тех данных, которые были выбраны."
   ]
  },
  {
   "cell_type": "code",
   "execution_count": 82,
   "outputs": [
    {
     "name": "stdout",
     "output_type": "stream",
     "text": [
      "|      id       |    minutes    |\n",
      "|-------------------------------|\n",
      "|    207371     |      80       |\n",
      "|    350758     |      80       |\n",
      "|    521196     |      60       |\n",
      "|     55345     |      550      |\n",
      "|    180849     |      75       |\n"
     ]
    }
   ],
   "source": [
    "recipes = pd.read_csv('data/recipes_sample.csv')\n",
    "recipe_sample = recipes.sample(5)\n",
    "\n",
    "titles = f'|{\"id\":^15}|{\"minutes\":^15}|'\n",
    "print(titles)\n",
    "\n",
    "print(f\"{'|-':-<{len(titles) - 1}}|\")\n",
    "\n",
    "for _, row in recipe_sample.iterrows():\n",
    "    print(f\"|{row['id']:^15}|{row['minutes']:^15}|\")"
   ],
   "metadata": {
    "collapsed": false
   }
  },
  {
   "cell_type": "markdown",
   "metadata": {},
   "source": [
    "2\\. Напишите функцию `show_info`, которая по данным о рецепте создает строку (в смысле объекта python) с описанием следующего вида:\n",
    "\n",
    "```\n",
    "\"Название Из Нескольких Слов\"\n",
    "\n",
    "1. Шаг 1\n",
    "2. Шаг 2\n",
    "----------\n",
    "Автор: contributor_id\n",
    "Среднее время приготовления: minutes минут\n",
    "```\n",
    "\n",
    "    \n",
    "Данные для создания строки получите из файлов `recipes_sample.csv` (__ЛР2__) и `steps_sample.xml` (__ЛР3__). \n",
    "Вызовите данную функцию для рецепта с id `170895` и выведите (через `print`) полученную строку на экран."
   ]
  },
  {
   "cell_type": "code",
   "execution_count": 123,
   "outputs": [
    {
     "name": "stdout",
     "output_type": "stream",
     "text": [
      "\"Leeks And Parsnips  Sauteed Or Creamed\"\n",
      "\n",
      "1. Clean the leeks and discard the dark green portions\n",
      "2. Cut the leeks lengthwise then into one-inch pieces\n",
      "3. Melt the butter in a medium skillet , med\n",
      "4. Heat\n",
      "5. Add the garlic and fry 'til fragrant\n",
      "6. Add leeks and fry until the leeks are tender , about 6-minutes\n",
      "7. Meanwhile , peel and chunk the parsnips into one-inch pieces\n",
      "8. Place in a steaming basket and steam 'til they are as tender as you prefer\n",
      "9. I like them fork-tender\n",
      "10. Drain parsnips and add to the skillet with the leeks\n",
      "11. Add salt and pepper\n",
      "12. Gently sautee together for 5-minutes\n",
      "13. At this point you can serve it , or continue on and cream it:\n",
      "14. In a jar with a screw top , add the half-n-half and arrowroot\n",
      "15. Shake 'til blended\n",
      "16. Turn heat to low under the leeks and parsnips\n",
      "17. Pour in the arrowroot mixture , stirring gently as you pour\n",
      "18. If too thick , gradually add the water\n",
      "19. Let simmer for a couple of minutes\n",
      "20. Taste to adjust seasoning , probably an additional 1 / 2 teaspoon salt\n",
      "21. Serve warm\n",
      "----------\n",
      "Автор: 8377\n",
      "Среднее время приготовления: 27 минут\n",
      "\n"
     ]
    }
   ],
   "source": [
    "def show_info(name, steps, minutes, author_id):\n",
    "    result = f'\"{name.title()}\"\\n\\n'\n",
    "\n",
    "    for index, step in enumerate(steps):\n",
    "        result += f'{index + 1}. {step.capitalize()}\\n'\n",
    "\n",
    "    result += '----------\\n'\n",
    "    result += f'Автор: {author_id}\\n'\n",
    "    result += f'Среднее время приготовления: {minutes} минут\\n'\n",
    "\n",
    "    return result\n",
    "\n",
    "with open('data/steps_sample.xml') as file:\n",
    "    data = BeautifulSoup(file, 'xml')\n",
    "\n",
    "recipe_id = 170895\n",
    "recipe = recipes[recipes['id'] == recipe_id]\n",
    "recipe_steps = []\n",
    "\n",
    "for current_recipe in data.recipes.find_all('recipe'):\n",
    "    if current_recipe.find('id').text == str(recipe_id):\n",
    "        recipe_steps = [step.text for step in current_recipe.steps.find_all('step')]\n",
    "\n",
    "print(show_info(recipe['name'].values[0], recipe_steps, recipe['minutes'].values[0], recipe['contributor_id'].values[0]))"
   ],
   "metadata": {
    "collapsed": false
   }
  },
  {
   "cell_type": "code",
   "execution_count": 37,
   "outputs": [
    {
     "name": "stdout",
     "output_type": "stream",
     "text": [
      "\"George S At The Cove Black Bean Soup\"\n",
      "\n",
      "1. Clean the leeks and discard the dark green portions\n",
      "2. Cut the leeks lengthwise then into one-inch pieces\n",
      "3. Melt the butter in a medium skillet , med\n",
      "----------\n",
      "Автор: 35193\n",
      "Среднее время приготовления: 90 минут\n",
      "\n"
     ]
    }
   ],
   "source": [
    "print(show_info(\n",
    "        name=\"george s at the cove black bean soup\",\n",
    "        steps=[\n",
    "            \"clean the leeks and discard the dark green portions\",\n",
    "            \"cut the leeks lengthwise then into one-inch pieces\",\n",
    "            \"melt the butter in a medium skillet , med\",\n",
    "        ],\n",
    "        minutes=90,\n",
    "        author_id=35193,\n",
    "    ))"
   ],
   "metadata": {
    "collapsed": false
   }
  },
  {
   "cell_type": "code",
   "execution_count": 38,
   "metadata": {},
   "outputs": [],
   "source": [
    "assert (\n",
    "    show_info(\n",
    "        name=\"george s at the cove black bean soup\",\n",
    "        steps=[\n",
    "            \"clean the leeks and discard the dark green portions\",\n",
    "            \"cut the leeks lengthwise then into one-inch pieces\",\n",
    "            \"melt the butter in a medium skillet , med\",\n",
    "        ],\n",
    "        minutes=90,\n",
    "        author_id=35193,\n",
    "    )\n",
    "    == '\"George S At The Cove Black Bean Soup\"\\n\\n1. Clean the leeks and discard the dark green portions\\n2. Cut the leeks lengthwise then into one-inch pieces\\n3. Melt the butter in a medium skillet , med\\n----------\\nАвтор: 35193\\nСреднее время приготовления: 90 минут\\n'\n",
    ")"
   ]
  },
  {
   "cell_type": "markdown",
   "metadata": {},
   "source": [
    "## Работа с регулярными выражениями"
   ]
  },
  {
   "cell_type": "markdown",
   "metadata": {},
   "source": [
    "3\\. Напишите регулярное выражение, которое ищет следующий паттерн в строке: число (1 цифра или более), затем пробел, затем слова: hour или hours или minute или minutes. Произведите поиск по данному регулярному выражению в каждом шаге рецепта с id 25082. Выведите на экран все непустые результаты, найденные по данному шаблону."
   ]
  },
  {
   "cell_type": "code",
   "execution_count": 122,
   "outputs": [
    {
     "name": "stdout",
     "output_type": "stream",
     "text": [
      "['20 minutes', '10 minutes', '2 hours', '10 minutes', '20 minutes', '30 minutes']\n"
     ]
    }
   ],
   "source": [
    "pattern = r'\\d+\\s(?:hours|hour|minutes|minute)'\n",
    "recipe_id = 25082\n",
    "\n",
    "recipe_steps = []\n",
    "\n",
    "for current_recipe in data.recipes.find_all('recipe'):\n",
    "    if current_recipe.find('id').text == str(recipe_id):\n",
    "        recipe_steps = [step.text for step in current_recipe.steps.find_all('step')]\n",
    "\n",
    "res = []\n",
    "\n",
    "for step in recipe_steps:\n",
    "    res += re.findall(pattern, step)\n",
    "\n",
    "print(res)"
   ],
   "metadata": {
    "collapsed": false
   }
  },
  {
   "cell_type": "markdown",
   "metadata": {},
   "source": [
    "4\\. Напишите регулярное выражение, которое ищет шаблон вида \"this..., but\" _в начале строки_ . Между словом \"this\" и частью \", but\" может находиться произвольное число букв, цифр, знаков подчеркивания и пробелов. Никаких других символов вместо многоточия быть не может. Пробел между запятой и словом \"but\" может присутствовать или отсутствовать.\n",
    "\n",
    "Используя строковые методы `pd.Series`, выясните, для каких рецептов данный шаблон содержится в тексте описания. Выведите на экран количество таких рецептов и 3 примера подходящих описаний (текст описания должен быть виден на экране полностью)."
   ]
  },
  {
   "cell_type": "code",
   "execution_count": 108,
   "outputs": [
    {
     "name": "stdout",
     "output_type": "stream",
     "text": [
      "Number of matched recipes: 134\n",
      "\n",
      "Description: this has a lot of ingredients, but is totally easy to make.  an excellent home cooked meal that tastes like chinese take-out!  you can also make these as appetizers (as they are served at the restaurants such as pf changs).\n",
      "\n",
      "Description: this is a very simple recipe, but it's made savory by using chicken broth and adding the cashews.  it doesn't take long to make, and i've found that fresh parsley really enhances the flavor of the dish rather than dried parsley.\n",
      "\n",
      "Description: this has a lot of ingredients in it, but after a lot of experimenting, i've found that this makes a really wonderful combination for a chili.  i make this at least once a month and my bf and i enjoy it every time.  so i wanted to share it with the zaar community and also put it here for safe-keeping.  enjoy!\n",
      "\n"
     ]
    }
   ],
   "source": [
    "pattern = r'^this[\\w\\s]*,\\s?but'\n",
    "recipes['description'] = recipes['description'].fillna(str())\n",
    "matching_recipes = recipes['description'].str.contains(pattern)\n",
    "\n",
    "print(f'Number of matched recipes: {len(recipes[matching_recipes])}\\n')\n",
    "\n",
    "description_sample = recipes[matching_recipes]['description'].sample(3)\n",
    "\n",
    "for description in description_sample:\n",
    "    print(f'Description: {description}\\n')"
   ],
   "metadata": {
    "collapsed": false
   }
  },
  {
   "cell_type": "markdown",
   "metadata": {},
   "source": [
    "5\\. В текстах шагов рецептов обыкновенные дроби имеют вид \"a / b\". Используя регулярные выражения, уберите в тексте шагов рецепта с id 72367 пробелы до и после символа дроби. Выведите на экран шаги этого рецепта после их изменения."
   ]
  },
  {
   "cell_type": "code",
   "execution_count": 121,
   "outputs": [
    {
     "name": "stdout",
     "output_type": "stream",
     "text": [
      "mix butter , flour , 1/3 c\n",
      "sugar and 1-1/4 t\n",
      "vanilla\n",
      "press into greased 9\" springform pan\n",
      "mix cream cheese , 1/4 c\n",
      "sugar , eggs and 1/2 t\n",
      "vanilla beating until fluffy\n",
      "pour over dough\n",
      "combine apples , 1/3 c\n",
      "sugar and cinnamon\n",
      "arrange on top of cream cheese mixture and sprinkle with almonds\n",
      "bake at 350 for 45-55 minutes , or until tester comes out clean\n"
     ]
    }
   ],
   "source": [
    "recipe_id = 72367\n",
    "\n",
    "recipe_steps = []\n",
    "\n",
    "for current_recipe in data.recipes.find_all('recipe'):\n",
    "    if current_recipe.find('id').text == str(recipe_id):\n",
    "        recipe_steps = [step.text for step in current_recipe.steps.find_all('step')]\n",
    "\n",
    "for index in range(len(recipe_steps)):\n",
    "    recipe_steps[index] = re.sub(r'\\s*/\\s*', '/', recipe_steps[index])\n",
    "    print(recipe_steps[index])"
   ],
   "metadata": {
    "collapsed": false
   }
  },
  {
   "cell_type": "markdown",
   "metadata": {},
   "source": [
    "### Сегментация текста"
   ]
  },
  {
   "cell_type": "markdown",
   "metadata": {},
   "source": [
    "6\\. Разбейте тексты шагов рецептов на слова при помощи пакета `nltk`. Посчитайте и выведите на экран кол-во уникальных слов среди всех рецептов. Словом называется любая последовательность алфавитных символов (для проверки можно воспользоваться `str.isalpha`). При подсчете количества уникальных слов не учитывайте регистр."
   ]
  },
  {
   "cell_type": "code",
   "execution_count": 130,
   "outputs": [
    {
     "data": {
      "text/plain": "14926"
     },
     "execution_count": 130,
     "metadata": {},
     "output_type": "execute_result"
    }
   ],
   "source": [
    "words = set()\n",
    "for current_recipe in data.recipes.find_all('recipe'):\n",
    "    recipe_steps = ' '.join([step.text for step in current_recipe.steps.find_all('step')])\n",
    "    [words.update([word.lower()]) for word in nltk.word_tokenize(recipe_steps) if word.isalpha()]\n",
    "\n",
    "len(set(words))"
   ],
   "metadata": {
    "collapsed": false
   }
  },
  {
   "cell_type": "markdown",
   "metadata": {},
   "source": [
    "7\\. Разбейте описания рецептов из `recipes` на предложения при помощи пакета `nltk`. Найдите 5 самых длинных описаний (по количеству _предложений_) рецептов в датасете и выведите строки фрейма, соответствующие этим рецептами, в порядке убывания длины."
   ]
  },
  {
   "cell_type": "code",
   "execution_count": 132,
   "outputs": [
    {
     "name": "stdout",
     "output_type": "stream",
     "text": [
      "name                   my favorite buttercream icing for decorating\n",
      "id                                                           334113\n",
      "minutes                                                          30\n",
      "contributor_id                                               681465\n",
      "submitted                                                2008-10-30\n",
      "n_steps                                                        12.0\n",
      "description       this wonderful icing is used for icing cakes a...\n",
      "n_ingredients                                                   NaN\n",
      "n_sentences                                                      76\n",
      "Name: 18408, dtype: object\n",
      "name              alligator claws  avocado fritters  with chipot...\n",
      "id                                                           287008\n",
      "minutes                                                          45\n",
      "contributor_id                                               765354\n",
      "submitted                                                2008-02-19\n",
      "n_steps                                                         NaN\n",
      "description       a translucent golden-brown crust allows the gr...\n",
      "n_ingredients                                                   9.0\n",
      "n_sentences                                                      27\n",
      "Name: 481, dtype: object\n",
      "name                                      rich barley mushroom soup\n",
      "id                                                           328708\n",
      "minutes                                                          60\n",
      "contributor_id                                               221776\n",
      "submitted                                                2008-10-03\n",
      "n_steps                                                         NaN\n",
      "description       this is one of the best soups i've ever made a...\n",
      "n_ingredients                                                  10.0\n",
      "n_sentences                                                      24\n",
      "Name: 22566, dtype: object\n",
      "name                                                  chocolate tea\n",
      "id                                                           205348\n",
      "minutes                                                           6\n",
      "contributor_id                                               428824\n",
      "submitted                                                2007-01-14\n",
      "n_steps                                                         NaN\n",
      "description       i wrote this because there are an astounding l...\n",
      "n_ingredients                                                   NaN\n",
      "n_sentences                                                      23\n",
      "Name: 6779, dtype: object\n",
      "name              little bunny foo foo cake  carrot cake  with c...\n",
      "id                                                           316000\n",
      "minutes                                                          68\n",
      "contributor_id                                               689540\n",
      "submitted                                                2008-07-27\n",
      "n_steps                                                        14.0\n",
      "description       the first time i made this cake i grated a mil...\n",
      "n_ingredients                                                   NaN\n",
      "n_sentences                                                      23\n",
      "Name: 16296, dtype: object\n"
     ]
    }
   ],
   "source": [
    "n_sentences = []\n",
    "\n",
    "for description in recipes['description']:\n",
    "    n_sentences += [len(nltk.sent_tokenize(description))]\n",
    "\n",
    "recipes['n_sentences'] = n_sentences\n",
    "\n",
    "longest = recipes.nlargest(5, 'n_sentences')\n",
    "\n",
    "for _, row in longest.iterrows():\n",
    "    print(row)"
   ],
   "metadata": {
    "collapsed": false
   }
  },
  {
   "cell_type": "markdown",
   "metadata": {},
   "source": [
    "8\\. Напишите функцию, которая для заданного предложения выводит информацию о частях речи слов, входящих в предложение, в следующем виде:\n",
    "```\n",
    "PRP   VBD   DT      NNS     CC   VBD      NNS        RB   \n",
    " I  omitted the raspberries and added strawberries instead\n",
    "``` \n",
    "Для определения части речи слова можно воспользоваться `nltk.pos_tag`.\n",
    "\n",
    "Проверьте работоспособность функции на названии рецепта с id 241106.\n",
    "\n",
    "Обратите внимание, что часть речи должна находиться ровно посередине над соотвествующим словом, а между самими словами должен быть ровно один пробел.\n"
   ]
  },
  {
   "cell_type": "code",
   "execution_count": 148,
   "metadata": {},
   "outputs": [
    {
     "name": "stdout",
     "output_type": "stream",
     "text": [
      "   JJ     NNS    IN     NNS    VBP    JJ    CC   JJ   NNS   \n",
      "eggplant steaks with chickpeas feta cheese and black olives \n"
     ]
    }
   ],
   "source": [
    "def sentence_pos(sentence):\n",
    "    tags = nltk.pos_tag(nltk.tokenize.word_tokenize(sentence))\n",
    "\n",
    "    pos = str()\n",
    "    words = str()\n",
    "\n",
    "    for tag in tags:\n",
    "        max_length = max(len(tag[0]), len(tag[1]))\n",
    "\n",
    "        pos += f'{tag[1]}'.center(max_length) + ' '\n",
    "        words += f'{tag[0]}'.center(max_length) + ' '\n",
    "\n",
    "    print(pos)\n",
    "    print(words)\n",
    "\n",
    "sentence_pos(recipes[recipes['id'] == 241106]['name'].values[0])"
   ]
  }
 ],
 "metadata": {
  "kernelspec": {
   "display_name": "Python 3 (ipykernel)",
   "language": "python",
   "name": "python3"
  },
  "language_info": {
   "codemirror_mode": {
    "name": "ipython",
    "version": 3
   },
   "file_extension": ".py",
   "mimetype": "text/x-python",
   "name": "python",
   "nbconvert_exporter": "python",
   "pygments_lexer": "ipython3",
   "version": "3.9.13"
  }
 },
 "nbformat": 4,
 "nbformat_minor": 4
}
